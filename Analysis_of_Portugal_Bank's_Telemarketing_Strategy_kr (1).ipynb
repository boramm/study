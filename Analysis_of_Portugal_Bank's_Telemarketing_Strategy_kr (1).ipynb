{
  "nbformat": 4,
  "nbformat_minor": 0,
  "metadata": {
    "colab": {
      "private_outputs": true,
      "provenance": [],
      "gpuType": "T4"
    },
    "kernelspec": {
      "name": "python3",
      "display_name": "Python 3"
    },
    "language_info": {
      "name": "python"
    },
    "accelerator": "GPU",
    "gpuClass": "standard"
  },
  "cells": [
    {
      "cell_type": "code",
      "source": [
        "!pip install gitpython"
      ],
      "metadata": {
        "id": "WCAqNEwKSF6i"
      },
      "execution_count": null,
      "outputs": []
    },
    {
      "cell_type": "code",
      "source": [
        "import os\n",
        "\n",
        "# 현재 작업 디렉토리 확인\n",
        "current_directory = os.getcwd()\n",
        "\n",
        "# 현재 디렉토리의 파일 목록 출력\n",
        "file_list = os.listdir(current_directory)\n",
        "print(file_list)\n"
      ],
      "metadata": {
        "id": "R7EChSxRTFQ1"
      },
      "execution_count": null,
      "outputs": []
    },
    {
      "cell_type": "code",
      "source": [
        "from git import Repo\n",
        "\n",
        "# GitHub 저장소의 URL\n",
        "REPO_URL = 'https://github.com/USERNAME/REPO_NAME.git'\n",
        "# 파일을 업로드할 경로\n",
        "FILE_PATH = 'path/to/your/file.ipynb'\n",
        "# 업로드할 파일의 커밋 메시지\n",
        "COMMIT_MESSAGE = 'Upload file from Colab'\n",
        "\n",
        "# GitHub 저장소를 클론합니다\n",
        "Repo.clone_from(REPO_URL, '/content/repo')\n",
        "\n",
        "# 업로드할 파일을 복사합니다\n",
        "!cp FILE_PATH /content/repo/\n",
        "\n",
        "# 변경된 파일을 커밋하고 푸시합니다\n",
        "repo = Repo('/content/repo')\n",
        "repo.git.add('.')\n",
        "repo.git.commit('-m', COMMIT_MESSAGE)\n",
        "repo.git.push()"
      ],
      "metadata": {
        "id": "dLbElu_tSHLt"
      },
      "execution_count": null,
      "outputs": []
    },
    {
      "cell_type": "markdown",
      "metadata": {
        "id": "h6zKr6JP_MSJ"
      },
      "source": [
        "목표: 고객들의 특성 및 신용 정보를 바탕으로,정기예금(Term Deposit) 가입 여부 예측하고 정기예금 유도에 영향을 미칠 주요한 변수들을 파악 후\n",
        "활용하여 주어진 데이터셋으로 서로다른 머신러닝 알고리즘 최소 2개를 비교한다.\n",
        "\n",
        "\n"
      ]
    },
    {
      "cell_type": "markdown",
      "source": [
        "\n",
        "다음과 같은 순서로 분석을 진행하고자 한다.\n",
        "\n",
        "<데이터파악>\n",
        "1. 데이터 생김새와 변수 파악: 포르투갈 은행의 텔레마케팅을 통한 정기 예금 가입 유도 전략 (정기 예금 가입 예측 모형)\n",
        "2. 변수확인: 데이터의 주요 특징이되는 변수들을 파악\n",
        "3.시각화 및 기술통계량 요약등을 통해 개략적으로 데이터 생김새를 파악\n",
        "\n",
        "<모델별 실습>\n",
        "4. 데이터 전처리\n",
        "5. 데이터 세트 분리\n",
        "7. 데이터세트 분리 : 학습데이터와 테스트 데이터로 분리\n",
        "8. 모델학습: 학습데이터를 기반으로 머신러닝 알고리즘을 적용하여 모델을 학습\n",
        "9. 예측수행: 학습된 모델을 이용하여 테스트 데이터의 결과 확인\n",
        "10. 평가: 예측된 결과값과 테스트 데이터의 실제 결과값을 비교해 모델 성능 평가"
      ],
      "metadata": {
        "id": "n3pPOfNvA5vV"
      }
    },
    {
      "cell_type": "code",
      "source": [
        "from google.colab import drive\n",
        "drive.mount('/content/drive')"
      ],
      "metadata": {
        "id": "EkVxM-Buazrp"
      },
      "execution_count": null,
      "outputs": []
    },
    {
      "cell_type": "code",
      "source": [
        "## Database Phase\n",
        "import pandas as pd\n",
        "import numpy as np\n",
        "\n",
        "# Machine Learning Phase\n",
        "import sklearn\n",
        "from sklearn.svm import SVC\n",
        "from sklearn.preprocessing import LabelEncoder\n",
        "from sklearn.preprocessing import StandardScaler\n",
        "from sklearn.preprocessing import MinMaxScaler\n",
        "from sklearn.ensemble import ExtraTreesClassifier\n",
        "from sklearn.pipeline import make_pipeline\n",
        "from sklearn.model_selection import GridSearchCV\n",
        "from sklearn.linear_model import LogisticRegression\n",
        "from sklearn.tree import DecisionTreeClassifier\n",
        "from sklearn.ensemble import RandomForestClassifier\n",
        "from sklearn.naive_bayes import BernoulliNB\n",
        "from sklearn.neighbors import KNeighborsClassifier\n",
        "from sklearn.svm import SVC\n",
        "from sklearn.pipeline import Pipeline\n",
        "from sklearn.model_selection import train_test_split\n",
        "\n",
        "#Metrics Phase\n",
        "from sklearn import metrics\n",
        "from sklearn.metrics import classification_report\n",
        "from sklearn.model_selection import cross_val_score\n",
        "\n",
        "#Visualization Phase\n",
        "import matplotlib.pyplot as plt\n",
        "import seaborn as sns\n",
        "import matplotlib as mpl\n",
        "import matplotlib.pylab as pylab\n",
        "%matplotlib inline\n",
        "pd.set_option('display.max_columns', 500)\n",
        "mpl.style.use('ggplot')\n",
        "sns.set_style('white')\n",
        "pylab.rcParams['figure.figsize'] = 12,8\n",
        "\n",
        "#ignore warnings\n",
        "import warnings\n",
        "warnings.filterwarnings('ignore')"
      ],
      "metadata": {
        "id": "HqZITb8_srZR"
      },
      "execution_count": null,
      "outputs": []
    },
    {
      "cell_type": "markdown",
      "source": [
        "# **데이터 생김새와 변수 파악: 포르투갈 은행의 텔레마케팅을 통한 정기 예금 가입 유도전략 (정기예금 가입 예측 모형)**\n",
        "\n",
        "\n"
      ],
      "metadata": {
        "id": "n5skeqkGcksa"
      }
    },
    {
      "cell_type": "code",
      "source": [
        "import numpy as np  # numpy 패키지를 np로 불러옴\n",
        "import pandas as pd  # pandas 패키지를 pd로 불러옴\n",
        "from sklearn.metrics import accuracy_score  # scikit-learn에서 accuracy_score 함수를 불러옴\n",
        "from xgboost import XGBClassifier  # XGBoost 모델을 불러옴\n",
        "from sklearn.model_selection import train_test_split  # scikit-learn에서 train_test_split 함수를 불러옴\n",
        "from sklearn.model_selection import StratifiedKFold  # scikit-learn에서 StratifiedKFold 함수를 불러옴\n",
        "from sklearn.model_selection import cross_val_score  # scikit-learn에서 cross_val_score 함수를 불러옴\n",
        "import matplotlib.pyplot as plt  # matplotlib 패키지를 plt로 불러옴\n",
        "#별도의 창을열지않고 플롯 확인\n",
        "%matplotlib inline\n",
        "\n",
        "Original = pd.read_csv('/content/drive/MyDrive/bank.csv', delimiter=';')  # bank.csv 파일을 pandas의 read_csv 함수를 이용해 불러옴\n",
        "Original"
      ],
      "metadata": {
        "id": "yK9OUqYyhUYM"
      },
      "execution_count": null,
      "outputs": []
    },
    {
      "cell_type": "code",
      "source": [
        "import pandas as pd\n",
        "import seaborn as sns\n",
        "\n",
        "# 상관관계 행렬 생성\n",
        "correlation_matrix = Original.select_dtypes(include=['int64', 'float64']).corr()\n",
        "\n",
        "# 상관관계 히트맵 생성\n",
        "sns.heatmap(correlation_matrix, annot=True, cmap='coolwarm')\n",
        "plt.title('상관관계 행렬')\n",
        "plt.show()\n",
        "\n",
        "# pandas를 사용하여 데이터를 DataFrame으로 읽어옵니다.\n",
        "Original = pd.read_csv('/content/drive/MyDrive/bank.csv', delimiter=';')\n",
        "\n",
        "# DataFrame의 처음 몇 개의 행을 출력하여 데이터를 확인합니다.\n",
        "print(\"데이터의 처음 몇 개 행:\")\n",
        "print(Original.head())\n",
        "\n",
        "# DataFrame의 차원(행의 개수, 열의 개수)을 출력합니다.\n",
        "print(\"\\n데이터 형태:\")\n",
        "print(Original.shape)\n",
        "\n",
        "# 수치형 열에 대한 요약 통계량(개수, 평균, 표준편차 등)을 계산합니다.\n",
        "print(\"\\n요약 통계량:\")\n",
        "print(Original.describe())\n",
        "\n",
        "# DataFrame에서 결측값을 확인하고 각 열의 결측값 개수를 출력합니다.\n",
        "print(\"\\n결측값 확인:\")\n",
        "print(Original.isnull().sum())\n",
        "\n",
        "# 각 열의 데이터 타입을 출력합니다.\n",
        "print(\"\\n데이터 타입:\")\n",
        "print(Original.dtypes)\n",
        "\n",
        "# 범주형 열에 대해 고유값과 해당 개수를 출력합니다.\n",
        "print(\"\\n고유값 확인:\")\n",
        "for column in Original.select_dtypes(include='object').columns:\n",
        "    print(f\"\\n{column}:\")\n",
        "    print(Original[column].value_counts())\n",
        "\n",
        "# 수치형 열에 대한 히스토그램을 생성하여 데이터의 분포를 시각화합니다.\n",
        "print(\"\\n히스토그램:\")\n",
        "Original.hist(figsize=(10, 8))\n",
        "\n",
        "# 수치형 열을 대상으로 상관관계 행렬 히트맵을 생성하여 변수 간 관계를 파악합니다.\n",
        "print(\"\\n상관관계 행렬 히트맵:\")\n",
        "correlation_matrix = Original.select_dtypes(include=['int64', 'float64']).corr()\n",
        "sns.heatmap(correlation_matrix, annot=True, cmap='coolwarm')\n",
        "plt.title('상관관계 행렬')\n",
        "plt.show()\n"
      ],
      "metadata": {
        "id": "rxcOFCUXD24z"
      },
      "execution_count": null,
      "outputs": []
    },
    {
      "cell_type": "code",
      "source": [
        "#Original의 정보를 파악, 데이터의 개수는 4,521개\n",
        "Original.info()"
      ],
      "metadata": {
        "id": "TttBTzxudhq1"
      },
      "execution_count": null,
      "outputs": []
    },
    {
      "cell_type": "markdown",
      "source": [
        "**변수확인: 데이터의 주요 특징이되는 변수들을 파악**"
      ],
      "metadata": {
        "id": "ceV1UOG_d45V"
      }
    },
    {
      "cell_type": "markdown",
      "source": [
        "마케팅 캠페인 방법\n",
        "대상 상품: 정기예금 상품\n",
        "고객의 선정: 정기예금 가입 여부(y)를 타겟으로 하는 분류모형을 이용,\n",
        "가입가능성이 높은 고객을 선별\n",
        "접촉채널: 선정된 고객에 유무선전화를 이용하여 상품 소개 후 정기예금 가입을 권유\n",
        "데이터 수: 4,521\n",
        "\n",
        "변수의 개수 : 17 (=16 + output)"
      ],
      "metadata": {
        "id": "6cjjtvE-fD5o"
      }
    },
    {
      "cell_type": "markdown",
      "source": [
        "|연번||이름||변수종류|변수명|변수형태|변수설명|\n",
        "|------||---||------|---|---|---|\n",
        "|0||age||설명변수|나이|이산형|19세~87세|\n",
        "|1||job||설명변수|직장|명목형|노동자,기술자,서비스직 등 12가지|\n",
        "|2||marital||설명변수|결혼|명목형|결혼상태(이혼,결혼,싱글,아직모름)|\n",
        "|3||education||설명변수|교육|명목형|최종학력(고등학교,대학교 등 12가지)|\n",
        "|4||default||설명변수|채무불이행|명목형|채무불이행여부 (맞다,아니다,모름)|\n",
        "|5||balance||설명변수|잔고|연속형|고객 연평균 통장 잔고|\n",
        "|6||housing||설명변수|주택대출|명목형|주택대출여부 (맞다,아니다,모름)|\n",
        "|7||loan||설명변수|개인대출|명목형|개인대출여부 (맞다,아니다,모름)|\n",
        "|8||contact||설명변수|전화형태|명목형|휴대폰,집전화|\n",
        "|9||day||설명변수|요일|명목형|마지막으로 전화한 요일|\n",
        "|10||month||설명변수|월|명목형|마지막으로 전화한 달|\n",
        "|11||duration||설명변수|통화시간|연속형|고객과의 통화시간|\n",
        "|12||campaign||설명변수|일수|이산형|과거 캠페인의 마지막 연락 후 이번 캠페 인에서 다시 연락 받을 때까지 일수|\n",
        "|13||pdays||설명변수|캠페인|이산형|이번 캠페인동안 연락한 횟수|\n",
        "|14||previous||설명변수|과거연락|연속형|캠페인 이전에 연락받았던 횟수|\n",
        "|15||poutcome||설명변수|과거결과|명목형|과거 캠페인 때 정기 예금 가입 여부 (성공, 실패, 모름)|\n",
        "|16||y||설명변수|결과|명목형|정기예금 가입결과(성공, 실패)|"
      ],
      "metadata": {
        "id": "AQTyNozAiuGG"
      }
    },
    {
      "cell_type": "markdown",
      "source": [
        "**시각화 및 기술통계량 요약등을 통해 개략적으로 데이터 생김새를 파악**"
      ],
      "metadata": {
        "id": "nu5997mVesw8"
      }
    },
    {
      "cell_type": "markdown",
      "source": [
        "'나이' 변수를 범주화로 시각화하여 어떤 연령대에 고객이 많이 분포되어 있는지 확인"
      ],
      "metadata": {
        "id": "FZQMZLveuDxS"
      }
    },
    {
      "cell_type": "code",
      "source": [
        "#pandas 라이브러리를 pd 라는 이름으로 가져온다.\n",
        "import pandas as pd\n",
        "#matplotlib 라이브러리를 plt라는 이름으로 가져온다.\n",
        "import matplotlib.pyplot as plt\n",
        "#matplotlib 라이브러리에서 font_manager가져오기\n",
        "from matplotlib import font_manager\n",
        "\n",
        "# 폰트 경로 지정\n",
        "font_path = '/content/drive/MyDrive/NanumBarunGothic.ttf'\n",
        "\n",
        "# 폰트 매니저에 폰트 등록\n",
        "font_manager.fontManager.addfont(font_path)\n",
        "\n",
        "# 적용할 폰트 설정\n",
        "plt.rcParams['font.family'] = 'NanumBarunGothic'\n",
        "\n",
        "# 데이터 읽기, 각 필드는 세미콜론으로 구분\n",
        "Original = pd.read_csv('/content/drive/MyDrive/bank.csv', delimiter=';')\n",
        "\n",
        "# 히스토그램 그리기, bin수는 20으로 설정\n",
        "plt.hist(Original['age'], bins=20)\n",
        "\n",
        "# 축 레이블 설정\n",
        "plt.xlabel('Age')\n",
        "plt.ylabel('Frequency')\n",
        "\n",
        "# 그래프 표시\n",
        "plt.show()\n"
      ],
      "metadata": {
        "id": "v2pLsLKK6mBY"
      },
      "execution_count": null,
      "outputs": []
    },
    {
      "cell_type": "markdown",
      "source": [
        "**연령대별 정기예금 가입 분포를 확인**"
      ],
      "metadata": {
        "id": "gICoF6AktFY_"
      }
    },
    {
      "cell_type": "code",
      "source": [
        "import pandas as pd\n",
        "import matplotlib.pyplot as plt\n",
        "import matplotlib.font_manager as fm\n",
        "\n",
        "# bank.csv 파일을 읽어와서 Original에 저장\n",
        "Original = pd.read_csv('/content/drive/MyDrive/bank.csv', delimiter=';')\n",
        "\n",
        "# 연령대 구분을 위한 함수\n",
        "def age_group(age):\n",
        "    if age < 30:\n",
        "        return '20s'\n",
        "    elif age < 40:\n",
        "        return '30s'\n",
        "    elif age < 50:\n",
        "        return '40s'\n",
        "    elif age < 60:\n",
        "        return '50s'\n",
        "    else:\n",
        "        return '60s+'\n",
        "\n",
        "# 'age' 열의 값을 기반으로 연령대를 생성하여 'age_group' 열을 추가\n",
        "Original['age_group'] = Original['age'].apply(age_group)\n",
        "\n",
        "# 연령대별 정기예금 가입 여부의 분포 계산\n",
        "age_group_counts = Original.groupby(['age_group', 'y']).size().unstack()\n",
        "\n",
        "# 폰트 경로 설정\n",
        "font_path = '/content/drive/MyDrive/NanumBarunGothic.ttf'\n",
        "fontprop = fm.FontProperties(fname=font_path)\n",
        "\n",
        "# 그래프 생성\n",
        "age_group_counts.plot(kind='bar', stacked=True)\n",
        "plt.xlabel('연령대', fontproperties=fontprop)\n",
        "plt.ylabel('Count', fontproperties=fontprop)\n",
        "plt.title('연령대별 정기예금 가입 여부 분포', fontproperties=fontprop)\n",
        "plt.legend(['No', 'Yes'])\n",
        "plt.show()\n"
      ],
      "metadata": {
        "id": "i9JfH6xm7quG"
      },
      "execution_count": null,
      "outputs": []
    },
    {
      "cell_type": "markdown",
      "source": [
        "해석: 30대와 40대가 모수 자체가 많고 정기예금 가입자도 많은것으로 보인다"
      ],
      "metadata": {
        "id": "pXryZdNDtKdv"
      }
    },
    {
      "cell_type": "markdown",
      "source": [
        "**'직업' 변수의 분포를 시각화로 표현**"
      ],
      "metadata": {
        "id": "BRgWgTIWtzfe"
      }
    },
    {
      "cell_type": "code",
      "source": [
        "import pandas as pd\n",
        "import matplotlib.pyplot as plt\n",
        "import matplotlib.font_manager as fm\n",
        "\n",
        "# bank.csv 파일을 읽어와서 Original 변수에 저장\n",
        "Original = pd.read_csv('/content/drive/MyDrive/bank.csv', delimiter=';')\n",
        "\n",
        "# 직업 데이터 추출\n",
        "job_data = Original['job'].value_counts()\n",
        "\n",
        "# 폰트 경로 설정\n",
        "font_path = '/content/drive/MyDrive/NanumBarunGothic.ttf'\n",
        "fontprop = fm.FontProperties(fname=font_path)\n",
        "\n",
        "# 그래프 생성\n",
        "plt.bar(job_data.index, job_data.values)  # 직업별 막대 그래프 생성\n",
        "plt.xticks(rotation=45, fontproperties=fontprop)  # x축 라벨 회전 및 폰트 지정\n",
        "plt.xlabel('Job', fontproperties=fontprop)  # x축 라벨 지정 및 폰트 지정\n",
        "plt.ylabel('Count', fontproperties=fontprop)  # y축 라벨 지정 및 폰트 지정\n",
        "plt.title('Distribution of Jobs', fontproperties=fontprop)  # 그래프 제목 지정 및 폰트 지정\n",
        "plt.show()  # 그래프 출력\n",
        "\n"
      ],
      "metadata": {
        "id": "KmGWzn4rtt_a"
      },
      "execution_count": null,
      "outputs": []
    },
    {
      "cell_type": "markdown",
      "source": [
        "**소득별로 정기예금 가입 분포를 확인**"
      ],
      "metadata": {
        "id": "oCxlpUZtvBN1"
      }
    },
    {
      "cell_type": "code",
      "source": [
        "import pandas as pd\n",
        "import matplotlib.pyplot as plt\n",
        "import matplotlib.font_manager as fm\n",
        "\n",
        "# bank.csv 파일을 읽어와서 Original 변수에 저장\n",
        "Original = pd.read_csv('/content/drive/MyDrive/bank.csv', delimiter=';')\n",
        "\n",
        "# 직업 데이터와 정기예금 가입 여부(y) 데이터 추출\n",
        "job_deposit_data = Original.groupby(['job', 'y']).size().unstack()\n",
        "\n",
        "# 폰트 경로 설정\n",
        "font_path = '/content/drive/MyDrive/NanumBarunGothic.ttf'\n",
        "fontprop = fm.FontProperties(fname=font_path)\n",
        "\n",
        "# 그래프 생성\n",
        "job_deposit_data.plot(kind='bar', stacked=True)\n",
        "\n",
        "plt.xlabel('Job', fontproperties=fontprop)  # x축 라벨 지정 및 폰트 지정\n",
        "plt.ylabel('Count', fontproperties=fontprop)  # y축 라벨 지정 및 폰트 지정\n",
        "plt.title('Distribution of Jobs by Deposit', fontproperties=fontprop)  # 그래프 제목 지정 및 폰트 지정\n",
        "plt.legend(['No Deposit', 'Deposit'])  # 범례 지정\n",
        "plt.xticks(rotation=45, fontproperties=fontprop)  # x축 라벨 회전 및 폰트 지정\n",
        "plt.show()  # 그래프 출력\n",
        "\n"
      ],
      "metadata": {
        "id": "pYZu6rXRvFpq"
      },
      "execution_count": null,
      "outputs": []
    },
    {
      "cell_type": "code",
      "source": [
        "#주부들이 많이 가입한것은 알겠는데 정확한 값이 그래프에 표현되면 좋겠다고 생각이 들었다."
      ],
      "metadata": {
        "id": "VZpj2sYTwS8n"
      },
      "execution_count": null,
      "outputs": []
    },
    {
      "cell_type": "code",
      "source": [
        "import pandas as pd\n",
        "import matplotlib.pyplot as plt\n",
        "import matplotlib.font_manager as fm\n",
        "\n",
        "# bank.csv 파일을 읽어와서 Original 변수에 저장\n",
        "Original = pd.read_csv('/content/drive/MyDrive/bank.csv', delimiter=';')\n",
        "\n",
        "# 직업 데이터와 정기예금 가입 여부(y) 데이터 추출\n",
        "job_deposit_data = Original.groupby(['job', 'y']).size().unstack()\n",
        "\n",
        "# 폰트 경로 설정\n",
        "font_path = '/content/drive/MyDrive/NanumBarunGothic.ttf'\n",
        "fontprop = fm.FontProperties(fname=font_path)\n",
        "\n",
        "# 그래프 생성\n",
        "ax = job_deposit_data.plot(kind='bar', stacked=True)\n",
        "\n",
        "plt.xlabel('Job', fontproperties=fontprop)  # x축 라벨 지정 및 폰트 지정\n",
        "plt.ylabel('Count', fontproperties=fontprop)  # y축 라벨 지정 및 폰트 지정\n",
        "plt.title('Distribution of Jobs by Deposit', fontproperties=fontprop)  # 그래프 제목 지정 및 폰트 지정\n",
        "plt.legend(['No Deposit', 'Deposit'])  # 범례 지정\n",
        "plt.xticks(rotation=45)  # x축 라벨 회전\n",
        "\n",
        "# 막대 위에 수치 표시\n",
        "for p in ax.patches:\n",
        "    width = p.get_width()\n",
        "    height = p.get_height()\n",
        "    x, y = p.get_xy()\n",
        "    ax.annotate(height, (x + width/2, y + height/2), ha='center', va='center')\n",
        "\n",
        "plt.show()  # 그래프 출력\n",
        "\n"
      ],
      "metadata": {
        "id": "gaF1uTztv3Bm"
      },
      "execution_count": null,
      "outputs": []
    },
    {
      "cell_type": "markdown",
      "source": [
        "해석: 주부들이 가장 많이 가입했다."
      ],
      "metadata": {
        "id": "CbMZq44JvSPn"
      }
    },
    {
      "cell_type": "markdown",
      "source": [
        "고객들의 결혼여부 파악"
      ],
      "metadata": {
        "id": "MwGISTIxv1-u"
      }
    },
    {
      "cell_type": "code",
      "source": [
        "import pandas as pd\n",
        "\n",
        "# bank.csv 파일을 읽어와서 Original에 저장\n",
        "Original = pd.read_csv('/content/drive/MyDrive/bank.csv', delimiter=';')\n",
        "\n",
        "# 'marital' 변수만 따로 추출하여 marital_data에 저장\n",
        "marital_data = Original['marital']\n",
        "\n",
        "# 각 상태별 데이터 개수 카운트\n",
        "married_count = (marital_data == 'married').sum()\n",
        "divorced_count = (marital_data == 'divorced').sum()\n",
        "single_count = (marital_data == 'single').sum()\n",
        "\n",
        "# 각 상태별 데이터 비율 계산\n",
        "married_percentage = round(married_count/len(marital_data)*100, 2)\n",
        "divorced_percentage = round(divorced_count/len(marital_data)*100, 2)\n",
        "single_percentage = round(single_count/len(marital_data)*100, 2)\n",
        "\n",
        "# DataFrame 생성\n",
        "data = {'Status': ['Married', 'Divorced', 'Single'],\n",
        "        'Count': [married_count, divorced_count, single_count],\n",
        "        'Percentage': [married_percentage, divorced_percentage, single_percentage]}\n",
        "df = pd.DataFrame(data)\n",
        "\n",
        "# DataFrame 출력\n",
        "print(df)\n"
      ],
      "metadata": {
        "id": "Cx0Exv9Xv447"
      },
      "execution_count": null,
      "outputs": []
    },
    {
      "cell_type": "code",
      "source": [
        "import matplotlib.pyplot as plt\n",
        "import matplotlib.font_manager as fm\n",
        "\n",
        "# 폰트 경로 설정\n",
        "font_path = '/content/drive/MyDrive/NanumBarunGothic.ttf'\n",
        "fontprop = fm.FontProperties(fname=font_path)\n",
        "\n",
        "# 그래프 생성\n",
        "plt.bar(df['Status'], df['Count'])\n",
        "plt.xticks(rotation=45)\n",
        "plt.xlabel('Marital Status', fontproperties=fontprop)\n",
        "plt.ylabel('Count', fontproperties=fontprop)\n",
        "plt.title('Distribution of Marital Status', fontproperties=fontprop)\n",
        "plt.show()\n"
      ],
      "metadata": {
        "id": "yhThgcB6wa7R"
      },
      "execution_count": null,
      "outputs": []
    },
    {
      "cell_type": "markdown",
      "source": [
        "고객들의 결혼여부 데이터와 직업분포를 동시에 그래프로 표현"
      ],
      "metadata": {
        "id": "A88lndqAwrfc"
      }
    },
    {
      "cell_type": "code",
      "source": [
        "import pandas as pd\n",
        "import matplotlib.pyplot as plt\n",
        "import matplotlib.font_manager as fm\n",
        "\n",
        "# bank.csv 파일을 읽어와서 Original에 저장\n",
        "Original = pd.read_csv('/content/drive/MyDrive/bank.csv', delimiter=';')\n",
        "\n",
        "# 'job' 변수와 'marital' 변수 추출\n",
        "job_data = Original['job']\n",
        "marital_data = Original['marital']\n",
        "\n",
        "# 각 직업별 결혼 상태 분포 계산\n",
        "job_marital_data = pd.crosstab(job_data, marital_data, margins=True)\n",
        "\n",
        "# 'All' 열 제거 (unknown 상태)\n",
        "job_marital_data.drop('All', inplace=True)\n",
        "\n",
        "# 폰트 경로 설정\n",
        "font_path = '/content/drive/MyDrive/NanumBarunGothic.ttf'\n",
        "fontprop = fm.FontProperties(fname=font_path)\n",
        "\n",
        "# 결혼 상태별 직업 분포 그래프 생성\n",
        "job_marital_data.plot(kind='bar', stacked=True, figsize=(10,6))\n",
        "\n",
        "# 그래프 제목, x축, y축 라벨링\n",
        "plt.title('Marital Status by Job', fontproperties=fontprop)\n",
        "plt.xlabel('Job', fontproperties=fontprop)\n",
        "plt.ylabel('Count', fontproperties=fontprop)\n",
        "\n",
        "# 그래프 출력\n",
        "plt.show()\n",
        "\n"
      ],
      "metadata": {
        "id": "c9yp41Y7wxAG"
      },
      "execution_count": null,
      "outputs": []
    },
    {
      "cell_type": "markdown",
      "source": [
        "고객의 연평균 통장잔고를 시각화"
      ],
      "metadata": {
        "id": "qXysQAnf0nlg"
      }
    },
    {
      "cell_type": "code",
      "source": [
        "import pandas as pd\n",
        "import matplotlib.pyplot as plt\n",
        "import matplotlib.font_manager as fm\n",
        "\n",
        "# bank.csv 파일을 읽어와서 Original에 저장\n",
        "Original = pd.read_csv('/content/drive/MyDrive/bank.csv', delimiter=';')\n",
        "\n",
        "# 'balance' 변수만 추출하여 balance_data에 저장\n",
        "balance_data = Original['balance']\n",
        "\n",
        "# 폰트 경로 설정\n",
        "font_path = '/content/drive/MyDrive/NanumBarunGothic.ttf'\n",
        "fontprop = fm.FontProperties(fname=font_path)\n",
        "\n",
        "# scatter plot 그리기 (알파값은 투명도로 0은 투명, 1은 불투명을 뜻함)\n",
        "plt.scatter(Original['age'], balance_data, alpha=0.2)\n",
        "\n",
        "# 그래프 타이틀과 라벨링 추가\n",
        "plt.title(\"Balance vs Age\", fontproperties=fontprop)\n",
        "plt.xlabel(\"Age\", fontproperties=fontprop)\n",
        "plt.ylabel(\"Balance\", fontproperties=fontprop)\n",
        "\n",
        "# 그래프 출력\n",
        "plt.show()\n"
      ],
      "metadata": {
        "id": "_61YEaGY0qIv"
      },
      "execution_count": null,
      "outputs": []
    },
    {
      "cell_type": "markdown",
      "source": [
        "고객들의 연평균 잔고와 가입여부 분포를 시각화"
      ],
      "metadata": {
        "id": "qpDWD9SpxUWK"
      }
    },
    {
      "cell_type": "code",
      "source": [
        "import pandas as pd\n",
        "import matplotlib.pyplot as plt\n",
        "import matplotlib.font_manager as fm\n",
        "\n",
        "# bank.csv 파일을 읽어와서 Original에 저장\n",
        "Original = pd.read_csv('/content/drive/MyDrive/bank.csv', delimiter=';')\n",
        "\n",
        "# 'balance' 변수와 'y' 변수 추출\n",
        "balance_data = Original['balance']\n",
        "deposit_data = Original['y']\n",
        "\n",
        "# 폰트 경로 설정\n",
        "font_path = '/content/drive/MyDrive/NanumBarunGothic.ttf'\n",
        "fontprop = fm.FontProperties(fname=font_path)\n",
        "\n",
        "# 데이터를 정기예금 가입 여부에 따라 그룹으로 나눔\n",
        "groups = Original.groupby(deposit_data)\n",
        "\n",
        "# 그룹화된 데이터에서 연평균잔고(balance)를 추출하여 리스트로 저장\n",
        "data = [group[1]['balance'] for group in groups]\n",
        "\n",
        "# 박스 플롯으로 그래프 그리기\n",
        "plt.boxplot(data, labels=['No Deposit', 'Deposit'])\n",
        "\n",
        "# 그래프 타이틀과 라벨링 추가\n",
        "plt.title(\"Balance Distribution by Deposit\", fontproperties=fontprop)\n",
        "plt.xlabel(\"Deposit\", fontproperties=fontprop)\n",
        "plt.ylabel(\"Balance\", fontproperties=fontprop)\n",
        "\n",
        "# 그래프 출력\n",
        "plt.show()\n",
        "\n"
      ],
      "metadata": {
        "id": "ibxkbD5PxlKJ"
      },
      "execution_count": null,
      "outputs": []
    },
    {
      "cell_type": "markdown",
      "source": [
        "'최종학력' 변수를 시각화하여 표현"
      ],
      "metadata": {
        "id": "_6RfIzNpqt6C"
      }
    },
    {
      "cell_type": "code",
      "source": [
        "import pandas as pd\n",
        "import matplotlib.pyplot as plt\n",
        "import matplotlib.font_manager as fm\n",
        "\n",
        "# bank.csv 파일을 읽어와서 Original에 저장\n",
        "Original = pd.read_csv('/content/drive/MyDrive/bank.csv', delimiter=';')\n",
        "\n",
        "# 'education' 변수를 최종학력으로 변경하여 education_data에 저장\n",
        "education_data = Original['education'].replace({\n",
        "    'basic.4y': 'Primary Education',\n",
        "    'basic.6y': 'Primary Education',\n",
        "    'basic.9y': 'Basic Education',\n",
        "    'high.school': 'High School',\n",
        "    'university.degree': 'University Degree',\n",
        "    'professional.course': 'Professional Course',\n",
        "    'unknown': 'Unknown'\n",
        "})\n",
        "\n",
        "# 최종학력 별 데이터 개수 카운트\n",
        "education_counts = education_data.value_counts()\n",
        "\n",
        "# 폰트 경로 지정\n",
        "font_path = '/content/drive/MyDrive/NanumBarunGothic.ttf'\n",
        "fontprop = fm.FontProperties(fname=font_path)\n",
        "\n",
        "# 그래프 생성\n",
        "plt.bar(education_counts.index, education_counts.values)\n",
        "plt.xlabel('Education Level', fontproperties=fontprop)\n",
        "plt.ylabel('Count', fontproperties=fontprop)\n",
        "plt.title('Distribution of Education Level', fontproperties=fontprop)\n",
        "plt.xticks(rotation=45, fontproperties=fontprop) #45도로 회전\n",
        "plt.show()\n"
      ],
      "metadata": {
        "id": "XQkNL9f3rEAe"
      },
      "execution_count": null,
      "outputs": []
    },
    {
      "cell_type": "markdown",
      "source": [
        "변수들을 시각화로 확인 후, 어떤 변수가 결과값인 'y'에 더 영향을 미치는지 확인하고자 함"
      ],
      "metadata": {
        "id": "HREBFhvByuU0"
      }
    },
    {
      "cell_type": "code",
      "source": [
        "import pandas as pd\n",
        "import matplotlib.pyplot as plt\n",
        "import seaborn as sns\n",
        "\n",
        "# bank.csv 파일을 읽어와서 Original에 저장\n",
        "Original = pd.read_csv('/content/drive/MyDrive/bank.csv', delimiter=';')\n",
        "\n",
        "# 수치형 변수만 선택\n",
        "numeric_columns = Original.select_dtypes(include=['int64', 'float64']).columns\n",
        "\n",
        "# 수치형 변수들 간의 상관관계 계산\n",
        "correlation_matrix = Original[numeric_columns].corr()\n",
        "\n",
        "# 히트맵 그리기\n",
        "plt.figure(figsize=(12, 8))\n",
        "sns.heatmap(correlation_matrix, annot=True, cmap='coolwarm')\n",
        "plt.title('Correlation Matrix')\n",
        "plt.show()\n",
        "\n"
      ],
      "metadata": {
        "id": "tqMcdVs1y5bn"
      },
      "execution_count": null,
      "outputs": []
    },
    {
      "cell_type": "markdown",
      "source": [
        "변수들간의 상관관계를 보면 age와 balance의 상관관계는 0.08로 거의 없고 pday(캠페인의 마지막 연락 후 이번 캠페 인에서 다시 연락 받을 때까지 일수)과 previous(이번 캠페인동안 연락한 횟수) 변수간의 상관관계는 0.58로 상당히 높은것으로 보인다."
      ],
      "metadata": {
        "id": "FYJmsgYA5wkw"
      }
    },
    {
      "cell_type": "code",
      "source": [
        "import pandas as pd\n",
        "import matplotlib.font_manager as fm\n",
        "\n",
        "# 폰트 경로 지정\n",
        "font_path = '/content/drive/MyDrive/NanumBarunGothic.ttf'\n",
        "fontprop = fm.FontProperties(fname=font_path)\n",
        "\n",
        "# bank.csv 파일을 읽어와서 Original에 저장\n",
        "Original = pd.read_csv('/content/drive/MyDrive/bank.csv', delimiter=';')\n",
        "\n",
        "# 정기예금 가입 여부에 따른 numeric feature들의 평균과 표준편차 계산\n",
        "numeric_columns = Original.select_dtypes(include=['int64', 'float64']).columns\n",
        "stats_by_deposit = Original.groupby('y')[numeric_columns].agg(['mean', 'std'])\n",
        "\n",
        "# 표 형태로 결과 출력\n",
        "stats_table = pd.DataFrame()\n",
        "for col in stats_by_deposit.columns.levels[0]:\n",
        "    stats_table[(col, 'Mean')] = stats_by_deposit[col, 'mean']\n",
        "    stats_table[(col, 'Standard Deviation')] = stats_by_deposit[col, 'std']\n",
        "\n",
        "stats_table.index = ['No Deposit', 'Deposit']\n",
        "stats_table = stats_table.round(2)\n",
        "print(stats_table)\n",
        "\n",
        "\n",
        "\n"
      ],
      "metadata": {
        "id": "Olom3YHy_9qm"
      },
      "execution_count": null,
      "outputs": []
    },
    {
      "cell_type": "code",
      "source": [
        "#numeric feature들의 상관관계 확인\n",
        "import pandas as pd\n",
        "\n",
        "# bank.csv 파일을 읽어와서 Original에 저장\n",
        "Original = pd.read_csv('/content/drive/MyDrive/bank.csv', delimiter=';')\n",
        "\n",
        "# 정기예금 가입 여부에 따른 numeric feature들의 평균과 표준편차 계산\n",
        "numeric_columns = Original.select_dtypes(include=['int64', 'float64']).columns\n",
        "stats_by_deposit = Original.groupby('y')[numeric_columns].agg(['mean', 'std'])\n",
        "\n",
        "# 결과 출력\n",
        "print(stats_by_deposit)\n"
      ],
      "metadata": {
        "id": "c_rTcHZk_PEf"
      },
      "execution_count": null,
      "outputs": []
    },
    {
      "cell_type": "markdown",
      "source": [
        "*평균(mean)은 변수의 값들의 평균적인 크기를 나타냄\n",
        "정기예금 가입 결과에 따라 'no=정기예금 미가입', 'yes=정기예금 가입'로 나뉘어진다.\n",
        "\n",
        "*표준편차(std)는 변수의 값들이 얼마나 퍼져있는지를 나타냄\n",
        " 작을수록 변수 값들이 평균 주변에 모여있는 것을 의미하며, 클수록 변수 값들이 평균으로부터 더 멀리 퍼져있는 것을 의미함.\n",
        "\n",
        "Duration 고객과의 평균 통화 시간은 \"예\" 그룹(552.742802)이 \"아니오\" 그룹(226.347500)보다 훨씬 길다. 이는 접촉 시간이 길수록 정기예금에 가입할 가능성이 높을 수 있음을 시사함\n",
        "\n",
        "Previous(캠페인 이전에 연락받았던 횟수): 평균 연락 수는 \"아니오\" 그룹(0.471250)에 비해 \"예\" 그룹(1.090211)에서 더 높습니다. 이는 정기예금에 가입한 고객일수록 이전 컨택이 많았음을 의미하며, 이는 가입 결정에 영향을 미칠 수 있음을 시사함\n",
        "\n"
      ],
      "metadata": {
        "id": "PGe73ueF_ydi"
      }
    },
    {
      "cell_type": "markdown",
      "source": [],
      "metadata": {
        "id": "XmiF9-tlbj1F"
      }
    },
    {
      "cell_type": "markdown",
      "source": [],
      "metadata": {
        "id": "hD0a9_F2rB_V"
      }
    },
    {
      "cell_type": "markdown",
      "source": [
        "<모델별 실습>\n",
        "데이터세트 분리 : 학습데이터와 테스트 데이터로 분리\n",
        "모델학습: 학습데이터를 기반으로 머신러닝 알고리즘을 적용하여 모델을 학습\n",
        "예측수행: 학습된 모델을 이용하여 테스트 데이터의 결과 확인\n",
        "평가: 예측된 결과값과 테스트 데이터의 실제 결과값을 비교해 모델 성능 평가\n",
        "\n",
        "\n"
      ],
      "metadata": {
        "id": "r47M3aFaO77o"
      }
    },
    {
      "cell_type": "markdown",
      "source": [
        "앙상블 모델"
      ],
      "metadata": {
        "id": "AQsc6kIEthIt"
      }
    },
    {
      "cell_type": "code",
      "source": [
        "#Data Splitting Libraries\n",
        "from sklearn.model_selection import train_test_split,GridSearchCV\n",
        "from sklearn.metrics import confusion_matrix, accuracy_score,classification_report\n",
        "#Classification Libraries\n",
        "from sklearn.linear_model import LogisticRegression\n",
        "from sklearn.tree import DecisionTreeClassifier\n",
        "from sklearn.ensemble import RandomForestClassifier\n",
        "from sklearn.ensemble import GradientBoostingClassifier\n",
        "from sklearn.neighbors import KNeighborsClassifier\n"
      ],
      "metadata": {
        "id": "MOAUuay-xmCE"
      },
      "execution_count": null,
      "outputs": []
    },
    {
      "cell_type": "markdown",
      "source": [
        "데이터 전처리"
      ],
      "metadata": {
        "id": "abPd9OY-rID4"
      }
    },
    {
      "cell_type": "code",
      "source": [
        "import pandas as pd\n",
        "from sklearn.preprocessing import LabelEncoder\n",
        "\n",
        "# 데이터 불러오기\n",
        "test_data = pd.read_csv('/content/drive/MyDrive/bank.csv', delimiter=';')\n",
        "\n",
        "# 1. 결측치 처리\n",
        "test_data = test_data.dropna()\n",
        "\n",
        "# 2. 범주형 변수 인코딩\n",
        "categorical_cols = ['job', 'marital', 'education', 'default', 'housing', 'loan', 'contact', 'month', 'poutcome']\n",
        "label_encoder = LabelEncoder()\n",
        "for col in categorical_cols:\n",
        "    test_data[col] = label_encoder.fit_transform(test_data[col])\n",
        "\n",
        "# 3. 이상치 처리 (예시: 수치형 변수에서 3표준편차를 벗어나는 값 제거)\n",
        "numeric_cols = ['age', 'balance', 'day', 'duration', 'campaign', 'pdays', 'previous']\n",
        "for col in numeric_cols:\n",
        "    mean = test_data[col].mean()\n",
        "    std = test_data[col].std()\n",
        "    upper_bound = mean + 3 * std\n",
        "    lower_bound = mean - 3 * std\n",
        "    test_data = test_data[(test_data[col] >= lower_bound) & (test_data[col] <= upper_bound)]\n",
        "\n",
        "# 4. 데이터 스케일링/정규화 (예시: Min-Max 스케일링)\n",
        "numeric_cols = ['age', 'balance', 'day', 'duration', 'campaign', 'pdays', 'previous']\n",
        "for col in numeric_cols:\n",
        "    test_data[col] = (test_data[col] - test_data[col].min()) / (test_data[col].max() - test_data[col].min())\n",
        "\n",
        "# 전처리된 데이터 확인\n",
        "print(\"전처리된 데이터셋:\")\n",
        "print(test_data.head())\n"
      ],
      "metadata": {
        "id": "TTbko5VOBbPF"
      },
      "execution_count": null,
      "outputs": []
    },
    {
      "cell_type": "markdown",
      "source": [
        "앙상블 모델링"
      ],
      "metadata": {
        "id": "3SYIwTX2C1h3"
      }
    },
    {
      "cell_type": "code",
      "source": [
        "import pandas as pd\n",
        "from sklearn.model_selection import cross_val_score\n",
        "from xgboost import XGBClassifier\n",
        "from sklearn.ensemble import RandomForestClassifier, GradientBoostingClassifier\n",
        "from sklearn.preprocessing import LabelEncoder\n",
        "\n",
        "# 전처리된 데이터 불러오기\n",
        "test_data = pd.read_csv('/content/drive/MyDrive/bank.csv', delimiter=';')\n",
        "\n",
        "# 독립 변수와 종속 변수 분리\n",
        "X = test_data.drop('y', axis=1)\n",
        "y = test_data['y']\n",
        "\n",
        "# 문자열 값을 숫자로 변환\n",
        "label_encoder = LabelEncoder()\n",
        "y = label_encoder.fit_transform(y)  # 'no'를 0으로, 'yes'를 1로 변환\n",
        "\n",
        "for col in X.columns:\n",
        "    if X[col].dtype == 'object':\n",
        "        X[col] = label_encoder.fit_transform(X[col])\n",
        "\n",
        "# 앙상블 모델 구축 (랜덤 포레스트, 그래디언트 부스팅, XGBoost)\n",
        "random_forest = RandomForestClassifier()\n",
        "gradient_boosting = GradientBoostingClassifier()\n",
        "xgboost = XGBClassifier()\n",
        "\n",
        "# 10-fold cross-validation 수행\n",
        "rf_scores = cross_val_score(random_forest, X, y, cv=10)\n",
        "gb_scores = cross_val_score(gradient_boosting, X, y, cv=10)\n",
        "xgb_scores = cross_val_score(xgboost, X, y, cv=10)\n",
        "\n",
        "# 각 모델의 평균 정확도 계산\n",
        "rf_mean_accuracy = rf_scores.mean()\n",
        "gb_mean_accuracy = gb_scores.mean()\n",
        "xgb_mean_accuracy = xgb_scores.mean()\n",
        "\n",
        "# 결과 출력\n",
        "print(\"Random Forest 평균 정확도:\", rf_mean_accuracy)\n",
        "print(\"Gradient Boosting 평균 정확도:\", gb_mean_accuracy)\n",
        "print(\"XGBoost 평균 정확도:\", xgb_mean_accuracy)\n",
        "\n",
        "\n"
      ],
      "metadata": {
        "id": "NgetVqMxC4st"
      },
      "execution_count": null,
      "outputs": []
    },
    {
      "cell_type": "markdown",
      "source": [
        "모델링 결과 시각화"
      ],
      "metadata": {
        "id": "TyNqNN1bERx0"
      }
    },
    {
      "cell_type": "markdown",
      "source": [
        "ROC Curve로 표현"
      ],
      "metadata": {
        "id": "tSOIkfaaIpT7"
      }
    },
    {
      "cell_type": "code",
      "source": [
        "import matplotlib.pyplot as plt\n",
        "from sklearn.model_selection import cross_val_predict\n",
        "from sklearn.metrics import roc_curve, auc\n",
        "\n",
        "# Random Forest ROC 커브\n",
        "y_pred_rf = cross_val_predict(random_forest, X, y, cv=10, method='predict_proba')[:, 1]\n",
        "fpr_rf, tpr_rf, thresholds_rf = roc_curve(y, y_pred_rf)\n",
        "roc_auc_rf = auc(fpr_rf, tpr_rf)\n",
        "\n",
        "# Gradient Boosting ROC 커브\n",
        "y_pred_gb = cross_val_predict(gradient_boosting, X, y, cv=10, method='predict_proba')[:, 1]\n",
        "fpr_gb, tpr_gb, thresholds_gb = roc_curve(y, y_pred_gb)\n",
        "roc_auc_gb = auc(fpr_gb, tpr_gb)\n",
        "\n",
        "# XGBoost ROC 커브\n",
        "y_pred_xgb = cross_val_predict(xgboost, X, y, cv=10, method='predict_proba')[:, 1]\n",
        "fpr_xgb, tpr_xgb, thresholds_xgb = roc_curve(y, y_pred_xgb)\n",
        "roc_auc_xgb = auc(fpr_xgb, tpr_xgb)\n",
        "\n",
        "# ROC 커브 시각화\n",
        "plt.figure(figsize=(8, 6))\n",
        "plt.plot(fpr_rf, tpr_rf, label='Random Forest (AUC = %0.2f)' % roc_auc_rf)\n",
        "plt.plot(fpr_gb, tpr_gb, label='Gradient Boosting (AUC = %0.2f)' % roc_auc_gb)\n",
        "plt.plot(fpr_xgb, tpr_xgb, label='XGBoost (AUC = %0.2f)' % roc_auc_xgb)\n",
        "plt.plot([0, 1], [0, 1], 'k--')\n",
        "plt.xlim([0.0, 1.0])\n",
        "plt.ylim([0.0, 1.05])\n",
        "plt.xlabel('거짓 양성 비율 (FPR)')\n",
        "plt.ylabel('진짜 양성 비율 (TPR)')\n",
        "plt.title('Receiver Operating Characteristic (ROC) 커브')\n",
        "plt.legend(loc='lower right')\n",
        "plt.show()\n"
      ],
      "metadata": {
        "id": "j7zQrGKlItD0"
      },
      "execution_count": null,
      "outputs": []
    },
    {
      "cell_type": "code",
      "source": [
        "#Random Forest의 AUC 값이 0.91이고 Gradient Boost와 XGBoost의 AUC 값이 0.90인 경우, 이는 모든 모델이 좋은 예측 성능을 가지고 있다는 것을 나타냄\n",
        "#AUC 값이 0.9 이상이라면, 모델이 양성과 음성 샘플을 잘 구분하고 있다는 것을 의미한다.\n",
        "#이 모델들은 높은 정확도로 정기예금 가입 여부를 예측할 수 있다고 해석할 수 있음\n",
        "#또한, Random Forest의 AUC 값이 0.91로 약간 더 높으므로, Random Forest 모델이 다른 모델들보다 약간 더 우수한 성능을 가지고 있다고 할 수 있다."
      ],
      "metadata": {
        "id": "efbi4Fm6JnUd"
      },
      "execution_count": null,
      "outputs": []
    },
    {
      "cell_type": "code",
      "source": [
        "import matplotlib.pyplot as plt\n",
        "\n",
        "# 각 모델의 평균 정확도 데이터\n",
        "models = ['Random Forest', 'Gradient Boosting', 'XGBoost']\n",
        "accuracies = [rf_mean_accuracy, gb_mean_accuracy, xgb_mean_accuracy]\n",
        "\n",
        "# 시각화\n",
        "plt.bar(models, accuracies)\n",
        "plt.ylim(0.88, 0.91)  # y축 범위 설정 (수정 가능)\n",
        "plt.xlabel('앙상블 모델')\n",
        "plt.ylabel('평균 정확도')\n",
        "plt.title('앙상블 모델의 평균 정확도')\n",
        "plt.show()\n"
      ],
      "metadata": {
        "id": "nDBV62HkEQ10"
      },
      "execution_count": null,
      "outputs": []
    },
    {
      "cell_type": "code",
      "source": [
        "#어떤 변수가 영향을 많이 줬는지 확인\n",
        "import pandas as pd\n",
        "from sklearn.model_selection import cross_val_score\n",
        "from xgboost import XGBClassifier\n",
        "from sklearn.ensemble import RandomForestClassifier, GradientBoostingClassifier\n",
        "from sklearn.preprocessing import LabelEncoder\n",
        "\n",
        "# 전처리된 데이터 불러오기\n",
        "test_data = pd.read_csv('/content/drive/MyDrive/bank.csv', delimiter=';')\n",
        "\n",
        "#Random Forest 모델의 feature_importances\n",
        "random_forest.fit(X, y)\n",
        "importances_rf = random_forest.feature_importances_\n",
        "print(\"Random Forest 변수 중요도:\")\n",
        "for feature, importance in zip(X.columns, importances_rf):\n",
        "    print(f\"{feature}: {importance}\")\n",
        "\n",
        "#Gradient Boosting 모델의 feature_importances\n",
        "gradient_boosting.fit(X, y)\n",
        "importances_gb = gradient_boosting.feature_importances_\n",
        "print(\"Gradient Boosting 변수 중요도:\")\n",
        "for feature, importance in zip(X.columns, importances_gb):\n",
        "    print(f\"{feature}: {importance}\")\n",
        "\n",
        "#XGBoost 모델의 feature_importances\n",
        "xgboost.fit(X, y)\n",
        "importances_xgb = xgboost.feature_importances_\n",
        "print(\"XGBoost 변수 중요도:\")\n",
        "for feature, importance in zip(X.columns, importances_xgb):\n",
        "    print(f\"{feature}: {importance}\")\n"
      ],
      "metadata": {
        "id": "54I09WUuHZ_j"
      },
      "execution_count": null,
      "outputs": []
    },
    {
      "cell_type": "code",
      "source": [
        "import matplotlib.pyplot as plt\n",
        "\n",
        "# Random Forest 변수 중요도 시각화\n",
        "plt.figure(figsize=(10, 6))\n",
        "plt.bar(X.columns, importances_rf)\n",
        "plt.xlabel('변수')\n",
        "plt.ylabel('중요도')\n",
        "plt.title('Random Forest 변수 중요도')\n",
        "plt.xticks(rotation=90)\n",
        "plt.show()\n",
        "\n",
        "# Gradient Boosting 변수 중요도 시각화\n",
        "plt.figure(figsize=(10, 6))\n",
        "plt.bar(X.columns, importances_gb)\n",
        "plt.xlabel('변수')\n",
        "plt.ylabel('중요도')\n",
        "plt.title('Gradient Boosting 변수 중요도')\n",
        "plt.xticks(rotation=90)\n",
        "plt.show()\n",
        "\n",
        "# XGBoost 변수 중요도 시각화\n",
        "plt.figure(figsize=(10, 6))\n",
        "plt.bar(X.columns, importances_xgb)\n",
        "plt.xlabel('변수')\n",
        "plt.ylabel('중요도')\n",
        "plt.title('XGBoost 변수 중요도')\n",
        "plt.xticks(rotation=90)\n",
        "plt.show()\n",
        "\n",
        "# 모델별 정확도 결과 시각화\n",
        "models = ['Random Forest', 'Gradient Boosting', 'XGBoost']\n",
        "accuracies = [rf_mean_accuracy, gb_mean_accuracy, xgb_mean_accuracy]\n",
        "\n",
        "plt.figure(figsize=(8, 5))\n",
        "plt.bar(models, accuracies)\n",
        "plt.xlabel('모델')\n",
        "plt.ylabel('정확도')\n",
        "plt.title('각 모델의 정확도')\n",
        "plt.ylim([0.85, 0.9])\n",
        "plt.show()\n"
      ],
      "metadata": {
        "id": "0IbQATGzIN4G"
      },
      "execution_count": null,
      "outputs": []
    },
    {
      "cell_type": "markdown",
      "source": [
        "Confusion matrix로 표현"
      ],
      "metadata": {
        "id": "rfR-KBpNEmCL"
      }
    },
    {
      "cell_type": "code",
      "source": [
        "from sklearn.metrics import confusion_matrix\n",
        "from sklearn.model_selection import cross_val_predict\n",
        "import seaborn as sns\n",
        "\n",
        "# 예측값 계산\n",
        "y_pred_rf = cross_val_predict(random_forest, X, y, cv=10)\n",
        "y_pred_gb = cross_val_predict(gradient_boosting, X, y, cv=10)\n",
        "y_pred_xgb = cross_val_predict(xgboost, X, y, cv=10)\n",
        "\n",
        "# Confusion matrix 계산\n",
        "cm_rf = confusion_matrix(y, y_pred_rf)\n",
        "cm_gb = confusion_matrix(y, y_pred_gb)\n",
        "cm_xgb = confusion_matrix(y, y_pred_xgb)\n",
        "\n",
        "# Confusion matrix 시각화\n",
        "plt.figure(figsize=(15, 5))\n",
        "\n",
        "plt.subplot(1, 3, 1)\n",
        "sns.heatmap(cm_rf, annot=True, fmt='d', cmap='Blues')\n",
        "plt.title('Random Forest')\n",
        "plt.xlabel('Predicted')\n",
        "plt.ylabel('True')\n",
        "\n",
        "plt.subplot(1, 3, 2)\n",
        "sns.heatmap(cm_gb, annot=True, fmt='d', cmap='Blues')\n",
        "plt.title('Gradient Boosting')\n",
        "plt.xlabel('Predicted')\n",
        "plt.ylabel('True')\n",
        "\n",
        "plt.subplot(1, 3, 3)\n",
        "sns.heatmap(cm_xgb, annot=True, fmt='d', cmap='Blues')\n",
        "plt.title('XGBoost')\n",
        "plt.xlabel('Predicted')\n",
        "plt.ylabel('True')\n",
        "\n",
        "plt.tight_layout()\n",
        "plt.show()\n",
        "#True Positive (TP): 실제 Positive인 샘플을 Positive로 정확히 예측한 경우\n",
        "#False Positive (FP): 실제 Negative인 샘플을 Positive로 잘못 예측한 경우\n",
        "#False Negative (FN): 실제 Positive인 샘플을 Negative로 잘못 예측한 경우\n",
        "#True Negative (TN): 실제 Negative인 샘플을 Negative로 정확히 예측한 경우"
      ],
      "metadata": {
        "id": "wUderZ_SEpZE"
      },
      "execution_count": null,
      "outputs": []
    }
  ]
}